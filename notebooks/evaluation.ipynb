{
 "cells": [
  {
   "cell_type": "markdown",
   "id": "633da251",
   "metadata": {},
   "source": [
    "# Setup\n",
    "\n",
    "For this notebook we will be pulling chunk data from the PostgreSQL DB and generating responses from the backend server. \n",
    "Ensure that both containers are running and that the database is populated with your desired chunks.\n",
    "\n",
    "To start a single container instead of the entire app run `docker compose up -d <container-name>` from a terminal at the root of this repo."
   ]
  },
  {
   "cell_type": "code",
   "execution_count": 1,
   "id": "5e2b43f8",
   "metadata": {},
   "outputs": [
    {
     "name": "stderr",
     "output_type": "stream",
     "text": [
      "/home/elena/Projects/humana/.venv/lib/python3.12/site-packages/tqdm/auto.py:21: TqdmWarning: IProgress not found. Please update jupyter and ipywidgets. See https://ipywidgets.readthedocs.io/en/stable/user_install.html\n",
      "  from .autonotebook import tqdm as notebook_tqdm\n"
     ]
    }
   ],
   "source": [
    "import os\n",
    "import json\n",
    "\n",
    "from dotenv import load_dotenv\n",
    "from tqdm import tqdm\n",
    "from ragas.dataset_schema import SingleTurnSample\n",
    "from ragas.metrics import BleuScore, RougeScore\n",
    "from sqlalchemy import create_engine, text\n",
    "from sqlalchemy.engine import URL\n",
    "from transformers import AutoModel\n",
    "import matplotlib.pyplot as plt\n",
    "import requests\n",
    "\n",
    "load_dotenv()\n",
    "\n",
    "db_url = URL.create(\n",
    "    drivername=\"postgresql+psycopg2\",\n",
    "    username=\"postgres\",\n",
    "    password=os.environ[\"POSTGRES_PASSWORD\"],\n",
    "    host=\"localhost\",\n",
    "    port=5432,\n",
    "    database=\"medchat\",\n",
    ")\n",
    "\n",
    "\n",
    "def get_chunks(engine):\n",
    "    with engine.connect() as conn:\n",
    "        result = conn.execute(text(\"SELECT chunk_id, text FROM chunks\"))\n",
    "    return result.fetchall()"
   ]
  },
  {
   "cell_type": "code",
   "execution_count": 2,
   "id": "ff9deae1",
   "metadata": {},
   "outputs": [
    {
     "name": "stdout",
     "output_type": "stream",
     "text": [
      "Retrieved 17 chunks from the database.\n",
      "\n",
      "Sample chunk data:\n",
      "Chunk ID: 1, Text: The HER-2/neu oncoFene is a member of the erbB-lik...\n",
      "Chunk ID: 2, Text: HE EVIDENCE LINKING PROTO-ONCOGENES TO THE INDUC- ...\n",
      "Chunk ID: 3, Text: More direct evidence comes from the fact that, of ...\n",
      "Chunk ID: 4, Text: Subsequent sequence analysis and chromo- somal map...\n",
      "Chunk ID: 5, Text: As a result of the published data showing amplific...\n"
     ]
    }
   ],
   "source": [
    "engine = create_engine(db_url, echo=False)\n",
    "\n",
    "chunks = get_chunks(engine)\n",
    "print(f\"Retrieved {len(chunks)} chunks from the database.\\n\")\n",
    "print(\"Sample chunk data:\")\n",
    "for chunk in chunks[:5]:\n",
    "    print(f\"Chunk ID: {chunk[0]}, Text: {chunk[1][:50]}...\")"
   ]
  },
  {
   "cell_type": "markdown",
   "id": "b4cb5cdd",
   "metadata": {},
   "source": [
    "# Load Testset\n",
    "\n",
    "I manually generated 10 tests, each consisting of a question, sample answer, and list of relevant chunk ids. These questions are designed to cover a wide range of topics from all parts of the documents. Additionally, some questions require information from multiple chunks to answer, thereby increasing the difficulty level and testing the ability to synthesize information from different chunks.\n",
    "\n",
    "I acknowledge this testing set is still rather small, so all results should be taken lightly. However, the purpose of this notebook is not to give a definitive score for the app's performance, but rather to layout the overall testing framework."
   ]
  },
  {
   "cell_type": "code",
   "execution_count": null,
   "id": "2b85a922",
   "metadata": {},
   "outputs": [
    {
     "data": {
      "text/plain": [
       "{'question': 'What is HER-2/neu?',\n",
       " 'sample_answer': 'The HER-2/neu oncogene is a member of the erbB-like oncogene family, and is related to, but distinct firom, the epidermal growth factor receptor. This gene has been shown to be amplified in human breast cancer cell lines.',\n",
       " 'chunk_ids': [1]}"
      ]
     },
     "execution_count": 3,
     "metadata": {},
     "output_type": "execute_result"
    }
   ],
   "source": [
    "with open(\"eval_tests.json\", \"r\") as file:\n",
    "    eval_tests = json.load(file)\n",
    "\n",
    "# show sample\n",
    "eval_tests[\"1\"]"
   ]
  },
  {
   "cell_type": "markdown",
   "id": "5df3cf84",
   "metadata": {},
   "source": [
    "# Generate Responses"
   ]
  },
  {
   "cell_type": "code",
   "execution_count": 4,
   "id": "9f71623b",
   "metadata": {},
   "outputs": [],
   "source": [
    "def start_session() -> int:\n",
    "    resp = requests.post(\n",
    "        url=\"http://localhost:5050/start_session\",\n",
    "        json={\"user_id\": 1},  # User ID 1 is the test user\n",
    "    )\n",
    "    session_id = resp.json()\n",
    "    return session_id\n",
    "\n",
    "\n",
    "def generate_response(query: str):\n",
    "\n",
    "    session_id = start_session()\n",
    "\n",
    "    resp = requests.post(\n",
    "        url=\"http://localhost:5050/chat_response\",\n",
    "        json={\n",
    "            \"query\": query,\n",
    "            \"chat_history\": \"\",\n",
    "            \"session_id\": session_id,\n",
    "        },\n",
    "        timeout=120,\n",
    "    )\n",
    "    return resp.json()\n",
    "\n",
    "\n",
    "def generate_eval_responses(test_set: dict):\n",
    "\n",
    "    for id, test in tqdm(test_set.items()):\n",
    "        query = test[\"question\"]\n",
    "        resp = generate_response(query)\n",
    "\n",
    "        chunk_ids = [chunk[\"chunk_id\"] for chunk in resp[\"context\"]]\n",
    "\n",
    "        test_set[id][\"response\"] = resp[\"response\"]\n",
    "        test_set[id][\"retrieved_chunks\"] = chunk_ids\n",
    "        test_set[id][\"message_id\"] = resp[\"message_id\"]\n",
    "    return test_set\n"
   ]
  },
  {
   "cell_type": "code",
   "execution_count": null,
   "id": "3a14e4da",
   "metadata": {},
   "outputs": [
    {
     "name": "stderr",
     "output_type": "stream",
     "text": [
      "100%|██████████| 10/10 [02:33<00:00, 15.36s/it]\n"
     ]
    },
    {
     "data": {
      "text/plain": [
       "{'question': 'What is HER-2/neu?',\n",
       " 'sample_answer': 'The HER-2/neu oncogene is a member of the erbB-like oncogene family, and is related to, but distinct firom, the epidermal growth factor receptor. This gene has been shown to be amplified in human breast cancer cell lines.',\n",
       " 'chunk_ids': [1],\n",
       " 'response': 'The HER-2/neu protein is an oncogene that belongs to the erbB-like family and is distinct from the epidermal growth factor receptor. It is amplified in approximately 30% of breast cancers, correlating with poorer outcomes like relapse and reduced survival. Amplification of HER-2/neu is a strong independent predictor of prognosis, often outperforming traditional markers like hormone receptor status in lymph node-positive breast cancer.',\n",
       " 'retrieved_chunks': [1, 5],\n",
       " 'message_id': 39}"
      ]
     },
     "execution_count": 5,
     "metadata": {},
     "output_type": "execute_result"
    }
   ],
   "source": [
    "test_set = generate_eval_responses(eval_tests)\n",
    "test_set['1']"
   ]
  },
  {
   "cell_type": "markdown",
   "id": "e0b8395c",
   "metadata": {},
   "source": [
    "**NOTE**: if you would like, you can now shutdown both containers to save resources. We will not be using them again."
   ]
  },
  {
   "cell_type": "markdown",
   "id": "57be9568",
   "metadata": {},
   "source": [
    "# Evaluation Metrics\n",
    "\n",
    "## Context Retrieval\n",
    "To evaluate the app's context retrieval we will first measure the precision and recall of the returned chunks for each query. \n",
    "\n",
    "As a reminder,\n",
    "\n",
    "**Recall** measures what fraction of the true (relevant) chunks were actually retrieved.\n",
    "- For example, if there are 3 relevant chunks in test and the system retrieves 2 of them, recall is 2/3 = 66%.\n",
    "- High recall ensures the system doesn’t miss important context.\n",
    "\n",
    "**Precision** measures what fraction of the retrieved chunks are actually relevant.\n",
    "- For example, if the system retrieves 2 chunks and only 1 are truly relevant, precision is 1/2 = 50%.\n",
    "- High precision ensures it doesn’t include irrelevant or distracting content.\n",
    "\n",
    "We will also measure the F1-score of the returned chunks, which is the harmonic mean of precision and recall. This is a good way to distill the recall and precision to a single number."
   ]
  },
  {
   "cell_type": "code",
   "execution_count": 6,
   "id": "2ca353a2",
   "metadata": {},
   "outputs": [
    {
     "data": {
      "text/plain": [
       "{'question': 'What is HER-2/neu?',\n",
       " 'sample_answer': 'The HER-2/neu oncogene is a member of the erbB-like oncogene family, and is related to, but distinct firom, the epidermal growth factor receptor. This gene has been shown to be amplified in human breast cancer cell lines.',\n",
       " 'chunk_ids': [1],\n",
       " 'response': 'The HER-2/neu protein is an oncogene that belongs to the erbB-like family and is distinct from the epidermal growth factor receptor. It is amplified in approximately 30% of breast cancers, correlating with poorer outcomes like relapse and reduced survival. Amplification of HER-2/neu is a strong independent predictor of prognosis, often outperforming traditional markers like hormone receptor status in lymph node-positive breast cancer.',\n",
       " 'retrieved_chunks': [1, 5],\n",
       " 'message_id': 39,\n",
       " 'recall': 1.0,\n",
       " 'precision': 0.5,\n",
       " 'f1': 0.6666666666666666}"
      ]
     },
     "execution_count": 6,
     "metadata": {},
     "output_type": "execute_result"
    }
   ],
   "source": [
    "def compute_context_precision_recall(test_set):\n",
    "    for test_id, test_data in test_set.items():\n",
    "        relevant_chunks = set(test_data[\"chunk_ids\"])\n",
    "        retrieved_chunks = set(test_data[\"retrieved_chunks\"])\n",
    "\n",
    "        num_tp = len(relevant_chunks & retrieved_chunks)\n",
    "\n",
    "        # Compute Recall\n",
    "        if relevant_chunks:\n",
    "            recall = num_tp / len(relevant_chunks)\n",
    "        else:\n",
    "            recall = 0 \n",
    "        test_set[test_id][\"recall\"] = recall    \n",
    "\n",
    "        # Compute Precision\n",
    "        if retrieved_chunks:\n",
    "            precision = num_tp / len(retrieved_chunks)\n",
    "        else:\n",
    "            precision = 0 \n",
    "        test_set[test_id][\"precision\"] = precision\n",
    "\n",
    "        # Compute F1\n",
    "        if precision or recall:\n",
    "            f1 = 2*(precision*recall)/(precision + recall)\n",
    "        else:\n",
    "            f1 = 0\n",
    "        test_set[test_id][\"f1\"] = f1\n",
    "\n",
    "\n",
    "\n",
    "compute_context_precision_recall(test_set)\n",
    "test_set['1']"
   ]
  },
  {
   "cell_type": "markdown",
   "id": "9c62d304",
   "metadata": {},
   "source": [
    "Let's take a look at the results!"
   ]
  },
  {
   "cell_type": "code",
   "execution_count": 7,
   "id": "5651e411",
   "metadata": {},
   "outputs": [
    {
     "name": "stdout",
     "output_type": "stream",
     "text": [
      "Average Precision: 0.18\n",
      "Average Recall: 0.30\n",
      "Average F1 Score: 0.22\n"
     ]
    }
   ],
   "source": [
    "# Compute average over all tests\n",
    "\n",
    "avg_precision = sum(test[\"precision\"] for test in test_set.values()) / len(test_set)\n",
    "avg_recall = sum(test[\"recall\"] for test in test_set.values()) / len(test_set)\n",
    "avg_f1 = sum(test[\"f1\"] for test in test_set.values()) / len(test_set)\n",
    "\n",
    "print(f\"Average Precision: {avg_precision:.2f}\")\n",
    "print(f\"Average Recall: {avg_recall:.2f}\")\n",
    "print(f\"Average F1 Score: {avg_f1:.2f}\")"
   ]
  },
  {
   "cell_type": "code",
   "execution_count": 8,
   "id": "df7088dc",
   "metadata": {},
   "outputs": [
    {
     "name": "stdout",
     "output_type": "stream",
     "text": [
      "Number of tests with no context retrieved: 1\n"
     ]
    }
   ],
   "source": [
    "# Count tests where no context was retrieved\n",
    "no_context_tests = sum(1 for test in test_set.values() if not test[\"retrieved_chunks\"])\n",
    "print(f\"Number of tests with no context retrieved: {no_context_tests}\")"
   ]
  },
  {
   "cell_type": "code",
   "execution_count": 9,
   "id": "4bdf8eb8",
   "metadata": {},
   "outputs": [
    {
     "data": {
      "image/png": "[encoded data removed]",
      "text/plain": [
       "<Figure size 400x300 with 1 Axes>"
      ]
     },
     "metadata": {},
     "output_type": "display_data"
    }
   ],
   "source": [
    "# Plot Precision and Recall for each test\n",
    "precisions = [test[\"precision\"] for test in test_set.values()]\n",
    "recalls = [test[\"recall\"] for test in test_set.values()]\n",
    "\n",
    "# Create scatter plot\n",
    "plt.figure(figsize=(4, 3))\n",
    "plt.scatter(precisions, recalls, color='blue', alpha=0.25)\n",
    "plt.title(\"Precision vs Recall Scatter Plot\")\n",
    "plt.xlabel(\"Precision\")\n",
    "plt.ylabel(\"Recall\")\n",
    "plt.grid(True)\n",
    "plt.show()"
   ]
  },
  {
   "cell_type": "code",
   "execution_count": 10,
   "id": "d98de0b3",
   "metadata": {},
   "outputs": [
    {
     "name": "stdout",
     "output_type": "stream",
     "text": [
      "Number of tests with 0 precision and recall: 7\n"
     ]
    }
   ],
   "source": [
    "zero_precision_recall_tests = sum(\n",
    "    1 for test in test_set.values() if test[\"precision\"] == 0 and test[\"recall\"] == 0\n",
    ")\n",
    "print(f\"Number of tests with 0 precision and recall: {zero_precision_recall_tests}\")"
   ]
  },
  {
   "cell_type": "markdown",
   "id": "e1751970",
   "metadata": {},
   "source": [
    "### Dicussion\n",
    "\n",
    "Overall, the results are poor, with **7 out of 10 tests scoring 0 on both precision and recall**. However, there are two important observations to highlight:\n",
    "\n",
    "1. In 2/10 cases the app did not return any chunks at all. This indicates that we may have our `MIN_CHUNK_CROSSENCODER_RELAVANCE` parameter set too high (was 5.0 during this test). \n",
    "2. In the remaining 5/10 cases, a quick inspection of the results shows that the app still gave mostly relevant responses. Therefore, it might be the case that my test set was flawed in that the answer to some questions may be contained in chunks other than the listed ones (e.g., I say the answer is contained in Chunk 6 only, when the same information can also be found in Chunk 10).\n",
    "\n",
    "To evaluate whether the test set is indeed flawed, we need to compare the similarity between the app’s response and the expected answer, which we do in the next section.\n",
    "\n",
    "## Response Quality\n",
    "\n",
    "### Traditional NLP Metrics\n",
    "\n",
    "We will first compare the responses using two traditional NLP metrics: BLEU Score and ROUGE Score.\n",
    "\n",
    "As a reminder, both metrics can be used to compare a refernce text to a candidate text by measuring the co-occurrences of n-grams. BLEU was originally developed to assess to natural language translation task and ROUGE was developed to evaluate summaries.\n",
    "\n",
    "Neither metric is particularly well suited for this task, since they only consider n-grams and not more nuanced semantic similarity. However, they are a useful baseline if nothing else.\n",
    "\n"
   ]
  },
  {
   "cell_type": "code",
   "execution_count": 11,
   "id": "bae8f407",
   "metadata": {},
   "outputs": [],
   "source": [
    "samples = [\n",
    "    SingleTurnSample(\n",
    "        response=test[\"response\"],\n",
    "        reference=test[\"sample_answer\"]\n",
    "    )\n",
    "    for test in test_set.values()\n",
    "]"
   ]
  },
  {
   "cell_type": "code",
   "execution_count": 12,
   "id": "2683a4e0",
   "metadata": {},
   "outputs": [
    {
     "name": "stdout",
     "output_type": "stream",
     "text": [
      "Average BLEU Score: 0.17\n"
     ]
    }
   ],
   "source": [
    "scorer = BleuScore()\n",
    "\n",
    "scores = []\n",
    "for sample in samples:\n",
    "    score = await scorer.single_turn_ascore(sample)\n",
    "    scores.append(score)\n",
    "\n",
    "print(f\"Average BLEU Score: {sum(scores) / len(scores):.2f}\")"
   ]
  },
  {
   "cell_type": "code",
   "execution_count": 13,
   "id": "44c56a13",
   "metadata": {},
   "outputs": [
    {
     "name": "stdout",
     "output_type": "stream",
     "text": [
      "Average ROUGE Score: 0.19\n"
     ]
    }
   ],
   "source": [
    "scorer = RougeScore()\n",
    "for sample in samples:\n",
    "    score = await scorer.single_turn_ascore(sample)\n",
    "    scores.append(score)\n",
    "\n",
    "print(f\"Average ROUGE Score: {sum(scores) / len(scores):.2f}\")"
   ]
  },
  {
   "cell_type": "markdown",
   "id": "ce553729",
   "metadata": {},
   "source": [
    "### Vector Similarity\n",
    "\n",
    "Another approach is to take the similarity between the embeddings of the given answer and the response. This should hopefully capture some of the richer semantic meaning that is missing in the BLEU and ROUGE scores.\n",
    "\n",
    "To generate the embeddings I will be using a new model, `BAAI/bge-m3`. This is a general purpose embedding model that scores well on most evaluation sets (see [MTEB Leaderboard](https://huggingface.co/spaces/mteb/leaderboard)).\n",
    "\n",
    "I am deliberately using a new family of models to avoid data leakage in our evaluations. In more detail\n",
    "- Using an embedding model from the Qwen family could skew similarity scores upward, as both the generator (Qwen3) and the embedder may have been trained on overlapping data. This could make the responses appear more semantically similar than they actually are.\n",
    "- Recall the MedCPT models were used to retrieve context that was served as input to the Qwen model during generation. Reusing MEDCPT for evaluation would effectively mean asking the same model to assess the quality of an output that it indirectly influenced. This creates a feedback loop where any semantic alignment introduced during retrieval could artificially inflate the similarity scores. It also risks conflating retrieval performance with response quality, undermining the independence of the evaluation.\n",
    "\n",
    "An additional benefit of BGE-M3 is that is that it can simultaneously perform the three common retrieval functionalities of embedding model: dense retrieval, multi-vector retrieval, and sparse retrieval. Hence, it's basically 3 vector similarity scores in one, helping us get a more reliable overall similarity."
   ]
  },
  {
   "cell_type": "code",
   "execution_count": 14,
   "id": "87e35359",
   "metadata": {},
   "outputs": [
    {
     "name": "stderr",
     "output_type": "stream",
     "text": [
      "Fetching 30 files: 100%|██████████| 30/30 [03:31<00:00,  7.06s/it]\n"
     ]
    }
   ],
   "source": [
    "from FlagEmbedding import BGEM3FlagModel\n",
    "\n",
    "model = BGEM3FlagModel('BAAI/bge-m3',  use_fp16=True) "
   ]
  },
  {
   "cell_type": "code",
   "execution_count": 21,
   "id": "29927cb5",
   "metadata": {},
   "outputs": [
    {
     "name": "stdout",
     "output_type": "stream",
     "text": [
      "Average COLBERT Score: 0.78\n",
      "Average SPARSE Score: 0.54\n",
      "Average DENSE Score: 0.80\n",
      "Overall Average Score: 0.70\n"
     ]
    }
   ],
   "source": [
    "answers = [test[\"sample_answer\"] for test in test_set.values()]\n",
    "responses = [test[\"response\"] for test in test_set.values()]\n",
    "\n",
    "sentence_pairs = [[answer, response] for answer, response in zip(answers, responses)]\n",
    "\n",
    "scores = model.compute_score(sentence_pairs)\n",
    "\n",
    "for method in [\"colbert\", \"sparse\", \"dense\"]:\n",
    "    print(f\"Average {method.upper()} Score: {sum(scores[method]) / len(scores[method]):.2f}\")\n",
    "\n",
    "overall_avg = sum(sum(scores[method]) / len(scores[method]) for method in scores.keys()) / len(scores.keys())\n",
    "print(f\"Overall Average Score: {overall_avg:.2f}\")"
   ]
  },
  {
   "cell_type": "code",
   "execution_count": null,
   "id": "3d2fc963",
   "metadata": {},
   "outputs": [
    {
     "name": "stdout",
     "output_type": "stream",
     "text": [
      "Test ID: 3\n",
      "Question: What is the clinical significance of HER-2/neu amplification?\n",
      "Sample Answer: HER-2/neu has been shown to be amplified in human breast cancer cell lines. In the current study, alterations of the gene in 189 primary human breast cancers were investigated. HER-2/neu was found to be amplified from 2- to greater than 20-fold in 30% of the tumors. Correlation of gene amplification with several disease parameters was evaluated. Amplification of the HER-2/neu gene was a significant predictor of both overall survival and time to relapse in patients with breast cancer. It retained its significance even when adjustments were made for other known prognostic factors. Moreover, HER-2/neu amplification had greater prognostic value than most currently used prognostic factors, including hormonal-receptor status, in lymph node-positive disease.\n",
      "Response: HER2/neu amplification is associated with increased risk of cancer relapse and poorer overall survival in breast cancer patients. It is a key biomarker guiding treatment decisions, particularly for targeted therapies like trastuzumab. Amplification also influences prognosis, with higher levels correlating with more aggressive disease. Detecting HER2 status helps stratify patients for tailored therapeutic approaches.\n",
      "Overall Average Score: 0.71\n",
      "\n",
      "Test ID: 5\n",
      "Question: What factors are used for breast cancer malignancy prognosis?\n",
      "Sample Answer:  Factors that are known to be important in the prognosis of breast malignancies in individual patients include: size of the primary tumor, stage of disease at diagnosis, hormonal receptor status, and number of axillary lymph nodes involved with disease (positive nodes).\n",
      "Response: The prognosis for breast cancer is determined by factors such as tumor size and stage, lymph node involvement, histological type (e.g., ductal vs. lobular), hormone receptor status (estrogen and progesterone receptors), and HER2 expression. These factors help assess the cancer's aggressiveness, likelihood of recurrence, and response to treatment. Additional considerations include the patient's overall health and the presence of genetic mutations, though these may not always be included in initial prognosis determination.\n",
      "Overall Average Score: 0.61\n",
      "\n",
      "Test ID: 7\n",
      "Question: How is HER-2/neu amplification correlated with other predictors of breast cancer malignancies?\n",
      "Sample Answer: Of 103 tumors evaluated in the initial survey, there was essentially no correlation between gene amplification and estrogen receptor status, progesterone receptor status, size of tumors, or age at diagnosis. However, there was a significant increase in incidence of HER-2/neu gene amplification in patients with more than 3 axillary lymph nodes involved with disease. A multivariate regression analysis to correlate HER-2/neu amplification with various disease parameters identified the number of positive nodes as the only significant factor, either alone or in combination, to correlate with amplification. In a second study on 100 breast cancer samples from patients with positive axillary lymph nodes, several statistically significant or nearly significant relationships were observed. In agreement with the preliminary survey, there was an association between number of involved lymph nodes and HER-2/neu amplification. In addition, the presence of gene amplification was correlated with estrogen receptor status and size of primary tumor\n",
      "Response: HER-2/neu amplification is a significant and superior predictor of both time to relapse and overall survival in breast cancer compared to other factors like hormonal receptor status and lymph node involvement. It is associated with worse outcomes, including shorter disease-free and overall survival, particularly when amplification exceeds five copies. While the number of positive nodes is equally predictive, HER-2/neu amplification retains its significance even after adjusting for other known prognostic factors.\n",
      "Overall Average Score: 0.66\n",
      "\n",
      "Test ID: 8\n",
      "Question: Is HER-2/neu still predictive of malignancies after other prognostic factors are controlled for?\n",
      "Sample Answer: To determine if amplification of HER-2/neu was independent of other known prognostic factors in predicting disease behavior, multivariate survival analyses were performed on the 86 node-positive cases. Amplification of the gene continued to be a strong prognostic factor, providing additional and independent predictive information on both time to relapse and overall survival in these patients, even when other prognostic factors were taken into account.\n",
      "Response: Yes, HER-2/neu amplification remains a significant predictive factor for breast cancer outcomes even when other prognostic factors like hormonal receptor status and lymph node involvement are accounted for. The study found it retained statistical significance for overall survival and time to relapse, outperforming most other factors. It was particularly impactful in lymph node-positive disease, with greater copy numbers correlating to worse prognosis.\n",
      "Overall Average Score: 0.69\n",
      "\n",
      "Test ID: 9\n",
      "Question: Is HER-2/neu amplification correlated with EGFR amplification?\n",
      "Sample Answer: To determine whether the phenomenon of amplification of HER-2/neu in breast cancer extended to related growth factor receptors, all filters were analyzed with the EGFR probe. Amplification of the EGFR gene was found in 4 out of 189 (2%) of the cases, and rearrangement of the EGFR gene was found in one of those four cases. The incidence of EGFR amplification and rearrangement was too small to attempt statistical correlation. Comparison of HER-2/neu amplification (53 out of 189, or 28%) with that of the EGFR gene reveals the incidence of the former to be 14 times greater than that of the latter, indicating that the phenomenon of gene amplification is not a general one for a related tyrosine kinase-specific receptor in human breast cancer. Moreover, studies examining alterations of two other tyrosine kinase-specific proto-oncogenes, abl and fes, in breast cancer did not show amplification of these genes.\n",
      "Response: The provided context does not mention a correlation between HER-2/neu amplification and EGFR amplification in cancer patients. It focuses on HER-2/neu's relationship with survival, relapse, and other factors in breast cancer but does not address EGFR amplification or its interactions. Therefore, the answer is not contained in the given text.\n",
      "Overall Average Score: 0.61\n",
      "\n",
      "Test ID: 10\n",
      "Question: What is the clinical significance of N-myc amplification?\n",
      "Sample Answer: The N-myc gene is frequently amplified in human neuroblastomas and neuroblastoma cell lines. Studies on the N-myc proto-oncogene were the first to show a direct association between abnormalities in a proto-oncogene and clinical behavior of a human tumor. N-myc amplification and expression correlate both with stage of disease and overall survival in patients with neuroblastoma. Moreover, the greater the N-myc gene copy number, the worse the patient prognosis for all stages of the disease. Taken together, these data indicate a role for the N-myc gene in the pathogenesis of neuroblastoma.\n",
      "Response: The clinical significance of N-myc amplification lies in its association with poorer prognosis in neuroblastoma, similar to HER-2/neu amplification in breast cancer. It serves as a prognostic marker, indicating more aggressive disease and worse survival outcomes. While the context does not explicitly detail treatment implications, its role in predicting clinical outcomes underscores its importance in guiding therapeutic strategies for neuroblastoma.\n",
      "Overall Average Score: 0.63\n",
      "\n"
     ]
    }
   ],
   "source": [
    "# Inspect tests with high average scores but 0 precision and recall\n",
    "\n",
    "for test_id, test_data in test_set.items():\n",
    "    overall_avg_score = sum(scores[method][int(test_id) - 1] for method in scores.keys()) / len(scores.keys())\n",
    "    if overall_avg_score > 0.5 and test_data[\"recall\"] == 0 and test_data[\"precision\"] == 0:\n",
    "        print(f\"Test ID: {test_id}\")\n",
    "        print(f\"Question: {test_data['question']}\")\n",
    "        print(f\"Sample Answer: {test_data['sample_answer']}\")\n",
    "        print(f\"Response: {test_data['response']}\")\n",
    "        print(f\"Overall Average Score: {overall_avg_score:.2f}\\n\")"
   ]
  },
  {
   "cell_type": "markdown",
   "id": "82014324",
   "metadata": {},
   "source": [
    "### LLM Based Scores\n",
    "\n",
    "In addition to the metrics above, one can also use LLM-graded scores to assess the quality of responses. This involves prompting a large language model to rate or compare responses based on criteria such as correctness, relevance, completeness, or helpfulness.\n",
    "\n",
    "These methods provide several benefits, namely that:\n",
    "- LLM's can consider nuance in ways traditional scores cannot, for example sarcasm or negation\n",
    "- By changing the rubric in the prompts you can emphasize or de-emphasize specific criteria (e.g., don't say anything not fully supported by the context)\n",
    "\n",
    "However, the inherent randomness of LLM's gives me pause. Before implementing them, I would want to do a study comparing the LLM's scores to human reviewers and measuring their consistency across runs.\n",
    "\n",
    "For the purposes of this prototype, I also chose to leave them out because I don't have faith in the small models I can run on my hardware to act as reliable reviewers.\n",
    "\n",
    "## Discussion\n",
    "\n",
    "Overall, the response quality metrics are promising! \n",
    "\n",
    "The BLEU and ROUGE scores were almost universally low, which isn't really surprising given their limitations. However the vector similarity scores are quite high, with an overall average of 0.7 across the three embedding methods.\n",
    "\n",
    "To test my hypothesis that some of the tests may be flawed, I manually inspected any tests that had an overall vector similarity > 0.5, recall = 0, and precision = 0. 6 of the 7 tests that had 0 precision and recall satisfied these conditions. \n",
    "\n",
    "In my subjective opinion, I would only classify one of these tests (test 3) as a \"False Positive\", i.e., one of the test had an irrelevant response that nonetheless scored high. For the remaining 5 tests, I found the model's answer to be relevant and agree with the sample answer, though in some cases the model's answer had less details. This supports the hypothesis that these 5 tests may be flawed, and adding additional relevant context chunks to the answers would give a better indicator of performance."
   ]
  },
  {
   "cell_type": "code",
   "execution_count": null,
   "id": "df4d3664",
   "metadata": {},
   "outputs": [],
   "source": []
  }
 ],
 "metadata": {
  "kernelspec": {
   "display_name": ".venv",
   "language": "python",
   "name": "python3"
  },
  "language_info": {
   "codemirror_mode": {
    "name": "ipython",
    "version": 3
   },
   "file_extension": ".py",
   "mimetype": "text/x-python",
   "name": "python",
   "nbconvert_exporter": "python",
   "pygments_lexer": "ipython3",
   "version": "3.12.7"
  }
 },
 "nbformat": 4,
 "nbformat_minor": 5
}
